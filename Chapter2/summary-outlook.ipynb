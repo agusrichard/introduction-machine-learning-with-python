{
 "cells": [
  {
   "cell_type": "markdown",
   "metadata": {},
   "source": [
    "# Summary and Outlook"
   ]
  },
  {
   "cell_type": "markdown",
   "metadata": {},
   "source": [
    "- Generalization: able to perform well on new, previously unseen data.\n",
    "- Underfitting: describes a model that cannot capture variations present in the training data.\n",
    "- Overfitting: decribes a model that focuses to much on the training set and not able to generalize to new data very well.\n",
    "- Setting parameters are important to get good performance.\n",
    "- Don't blindly applying an algorithm to a dataset without understanding the assumptions the model makes.\n",
    "- Machine learning algorithms we have learned:\n",
    "    - Nearest neighbors\n",
    "        - For small datasets, good as a baseline, easy to explain.\n",
    "    - Linear models\n",
    "        - Go-to as a first algorithm to try, good for very large datasets, good for very highdimensional data.\n",
    "    - Naive bayes\n",
    "        - Only for classification. Even faster than linear models, good for very large datasets and high-dimensional data. Often less accurate than linear models.\n",
    "    - Decision trees\n",
    "        - Very fast, don’t need scaling of the data, can be visualized and easily explained.\n",
    "    - Random forests\n",
    "        - Nearly always perform better than a single decision tree, very robust and powerful. Don’t need scaling of data. Not good for very high-dimensional sparse data.\n",
    "    - Gradient boosted decision trees\n",
    "        - Often slightly more accurate than random forests. Slower to train but faster to predict than random forests, and smaller in memory. Need more parameter tuning than random forests.\n",
    "    - Support vector machines\n",
    "        - Powerful for medium-sized datasets of features with similar meaning. Require scaling of data, sensitive to parameters.\n",
    "    - Neural networks\n",
    "        - Can build very complex models, particularly for large datasets. Sensitive to scaling of the data and to the choice of parameters. Large models need a long time to train.\n",
    "- Start with simple model such as linear model or naive bayes or nearest neighbors.\n",
    "- After that, we can go to more complex model."
   ]
  }
 ],
 "metadata": {
  "kernelspec": {
   "display_name": "Python 3",
   "language": "python",
   "name": "python3"
  },
  "language_info": {
   "codemirror_mode": {
    "name": "ipython",
    "version": 3
   },
   "file_extension": ".py",
   "mimetype": "text/x-python",
   "name": "python",
   "nbconvert_exporter": "python",
   "pygments_lexer": "ipython3",
   "version": "3.7.3"
  }
 },
 "nbformat": 4,
 "nbformat_minor": 2
}
