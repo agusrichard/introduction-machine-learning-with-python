{
 "cells": [
  {
   "cell_type": "markdown",
   "metadata": {},
   "source": [
    "# Introduction"
   ]
  },
  {
   "cell_type": "markdown",
   "metadata": {},
   "source": [
    "In unsupervised learning, the learning algorithm is just shown the input data and asked to extract knowledge from this data."
   ]
  },
  {
   "cell_type": "markdown",
   "metadata": {},
   "source": [
    "## Types of Unsupervised Learning"
   ]
  },
  {
   "cell_type": "markdown",
   "metadata": {},
   "source": [
    "- Two kinds of unsupervised learning: transformation of the dataset and clustering.\n",
    "- Unsupervised transformations of a dataset are algorithms that create a new representation of the data which might be easier for humans or other machine learning algorithms to understand compared to the original representation of the data.\n",
    "    - Common application: dimensionality reduction: finds a new way to represent the data that still summarize the essential characteristics with fewer features.\n",
    "    - Another application: finding parts or components that \"make up\" the data. ex: topic extraction on collections of documents. Find the unknown topics. Useful for sentiment analysis, etc.\n",
    "- Clustering algorithms: partition data into distinc groups of similar items. Application: for grouping photos in social media."
   ]
  },
  {
   "cell_type": "markdown",
   "metadata": {},
   "source": [
    "## Challenges in Unsupervised Learning"
   ]
  },
  {
   "cell_type": "markdown",
   "metadata": {},
   "source": [
    "- Major challenge: evaluating whether the algorithm learned something useful. - Apllied to data that doesnot contain any label information. So it is hard to say whether the model did well.\n",
    "- Oftenly, to inspect whether the model did well we have to inspect it manually.\n",
    "- Used for exploratory setting.\n",
    "- Used as preprocessing step for supervised learning. To improve accuracy, reduced memory and time consumptions."
   ]
  }
 ],
 "metadata": {
  "kernelspec": {
   "display_name": "Python 3",
   "language": "python",
   "name": "python3"
  },
  "language_info": {
   "codemirror_mode": {
    "name": "ipython",
    "version": 3
   },
   "file_extension": ".py",
   "mimetype": "text/x-python",
   "name": "python",
   "nbconvert_exporter": "python",
   "pygments_lexer": "ipython3",
   "version": "3.7.3"
  }
 },
 "nbformat": 4,
 "nbformat_minor": 2
}
